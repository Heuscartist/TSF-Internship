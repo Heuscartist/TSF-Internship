{
 "cells": [
  {
   "cell_type": "markdown",
   "id": "8096b783",
   "metadata": {},
   "source": [
    "# Task 2 - TSF GRIP"
   ]
  },
  {
   "cell_type": "markdown",
   "id": "b41a54d8",
   "metadata": {},
   "source": [
    "In this task we are given a part of the \"Iris\" dataset, and are supposed to predict the optimum number of clusters needed and to represent that visually."
   ]
  },
  {
   "cell_type": "markdown",
   "id": "711d19c2",
   "metadata": {},
   "source": [
    "Start off by importing necessary libraries"
   ]
  },
  {
   "cell_type": "code",
   "execution_count": 4,
   "id": "a30c7d19",
   "metadata": {},
   "outputs": [],
   "source": [
    "import numpy as np\n",
    "import matplotlib.pyplot as plt\n",
    "import pandas as pd\n",
    "from sklearn.cluster import KMeans"
   ]
  },
  {
   "cell_type": "markdown",
   "id": "ad2afddd",
   "metadata": {},
   "source": [
    "Importing Data from .csv file"
   ]
  },
  {
   "cell_type": "code",
   "execution_count": 25,
   "id": "2e9ac94c",
   "metadata": {},
   "outputs": [
    {
     "name": "stdout",
     "output_type": "stream",
     "text": [
      "\n",
      "\n",
      "DataFrame before removing ID Column\n",
      "\n",
      "   Id  SepalLengthCm  SepalWidthCm  PetalLengthCm  PetalWidthCm      Species\n",
      "0   1            5.1           3.5            1.4           0.2  Iris-setosa\n",
      "1   2            4.9           3.0            1.4           0.2  Iris-setosa\n",
      "2   3            4.7           3.2            1.3           0.2  Iris-setosa\n",
      "3   4            4.6           3.1            1.5           0.2  Iris-setosa\n",
      "4   5            5.0           3.6            1.4           0.2  Iris-setosa\n",
      "\n",
      "\n",
      "DataFrame after removing ID Column\n",
      "\n",
      "   SepalLengthCm  SepalWidthCm  PetalLengthCm  PetalWidthCm      Species\n",
      "0            5.1           3.5            1.4           0.2  Iris-setosa\n",
      "1            4.9           3.0            1.4           0.2  Iris-setosa\n",
      "2            4.7           3.2            1.3           0.2  Iris-setosa\n",
      "3            4.6           3.1            1.5           0.2  Iris-setosa\n",
      "4            5.0           3.6            1.4           0.2  Iris-setosa\n"
     ]
    }
   ],
   "source": [
    "file_path = 'C:/01_Adil Mubashir/16_Internships/The Sparks Foundation/Data Analysis/Task_2/Iris.csv'\n",
    "data = pd.read_csv(file_path)                           #reading local csv file and storing as dataframe\n",
    "print('\\n\\nDataFrame before removing ID Column\\n')\n",
    "print(data.head())                                      #printing to check the intially loaded Dataframe\n",
    "\n",
    "#as we can see theres an extra ID # column which is useless for us so we will drop that\n",
    "data.drop(axis=1, labels=\"Id\", inplace=True)            \n",
    "print('\\n\\nDataFrame after removing ID Column\\n')\n",
    "print(data.head())\n"
   ]
  },
  {
   "cell_type": "markdown",
   "id": "1b61c87c",
   "metadata": {},
   "source": [
    "Finding the Optimum Number of Clusters, this can be done using the elbow method.This is an itterative method where we change the number of clusters in our KMeans clusters within a range and then we plot a line graph using the distortion we extract from the data. The number of clusters are determined where the elbow of the graph forms, hence the name \"Elbow Method\"."
   ]
  },
  {
   "cell_type": "code",
   "execution_count": 31,
   "id": "b570b6c9",
   "metadata": {},
   "outputs": [
    {
     "data": {
      "image/png": "[encoded data removed]",
      "text/plain": [
       "<Figure size 432x288 with 1 Axes>"
      ]
     },
     "metadata": {
      "needs_background": "light"
     },
     "output_type": "display_data"
    }
   ],
   "source": [
    "x = data.iloc[:, range(0,3)].values                  #seperating the features of our target variable\n",
    "distortions = []                                     #creating an empty list\n",
    "num_clusters = range(1,10)\n",
    "\n",
    "for i in num_clusters:          #in this for loop we will itteratively change the clusters and append distortion in the list\n",
    "    kmeans = KMeans(n_clusters=i, random_state=0)\n",
    "    kmeans.fit(x)\n",
    "    distortions.append(kmeans.inertia_)\n",
    "plt.plot(num_clusters, distortions)                  #plotting the graph\n",
    "plt.title(\"Optimum Number of Clusters\")\n",
    "plt.xlabel(\"number of clusters\")\n",
    "plt.ylabel(\"distortion\")\n",
    "plt.show()"
   ]
  },
  {
   "cell_type": "markdown",
   "id": "9b17c65b",
   "metadata": {},
   "source": [
    "as we can see in the above graph, the number of optimum clusters are 3 in this case, which tells us that there are 3 different clusters of Iris depending on their features"
   ]
  },
  {
   "cell_type": "markdown",
   "id": "b4bc0949",
   "metadata": {},
   "source": [
    "now we will use the information to apply the number of clusters on our dataset"
   ]
  },
  {
   "cell_type": "code",
   "execution_count": 43,
   "id": "75118887",
   "metadata": {},
   "outputs": [
    {
     "data": {
      "image/png": "[encoded data removed]",
      "text/plain": [
       "<Figure size 432x288 with 1 Axes>"
      ]
     },
     "metadata": {
      "needs_background": "light"
     },
     "output_type": "display_data"
    }
   ],
   "source": [
    "kmeans = KMeans(n_clusters=3, random_state=0)\n",
    "y = kmeans.fit_predict(x)\n",
    "plt.scatter(x[y==0 ,0], x[y==0,1], c='#6CC4A1', label='Setosa')\n",
    "plt.scatter(x[y==1 ,0], x[y==1,1], c='#FF8B8B', label='Versicolor')\n",
    "plt.scatter(x[y==2 ,0], x[y==2,1], c='#3AB4F2', label='Virginica')\n",
    "plt.title(\"Iris DataSet KMeans-Clusters\")\n",
    "plt.legend()\n",
    "plt.show()"
   ]
  }
 ],
 "metadata": {
  "kernelspec": {
   "display_name": "Python 3 (ipykernel)",
   "language": "python",
   "name": "python3"
  },
  "language_info": {
   "codemirror_mode": {
    "name": "ipython",
    "version": 3
   },
   "file_extension": ".py",
   "mimetype": "text/x-python",
   "name": "python",
   "nbconvert_exporter": "python",
   "pygments_lexer": "ipython3",
   "version": "3.8.12"
  }
 },
 "nbformat": 4,
 "nbformat_minor": 5
}
