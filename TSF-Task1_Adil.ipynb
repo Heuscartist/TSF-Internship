{
 "cells": [
  {
   "cell_type": "markdown",
   "id": "8a9d894d",
   "metadata": {},
   "source": [
    "# Task 1 - TSF GRIP"
   ]
  },
  {
   "cell_type": "markdown",
   "id": "86d59f64",
   "metadata": {},
   "source": [
    "In this task we are required to import a dataset that contains data of number of hours studied and the score obtained by students. Using the data we are required to predict what the student would score if they study for 9.25 hrs."
   ]
  },
  {
   "cell_type": "markdown",
   "id": "27edcbaa",
   "metadata": {},
   "source": [
    "Installing & Importing the required Libraries"
   ]
  },
  {
   "cell_type": "code",
   "execution_count": null,
   "id": "82e4ebc6",
   "metadata": {},
   "outputs": [],
   "source": [
    "!pip install numpy\n",
    "!pip install pandas\n",
    "!pip install matplotlib\n",
    "!pip install sklearn"
   ]
  },
  {
   "cell_type": "code",
   "execution_count": 2,
   "id": "16857f4f",
   "metadata": {},
   "outputs": [],
   "source": [
    "import numpy as np\n",
    "import pandas as pd\n",
    "import matplotlib.pyplot as plt\n",
    "from sklearn.linear_model import LinearRegression\n",
    "from sklearn.model_selection import train_test_split\n",
    "from sklearn import metrics "
   ]
  },
  {
   "cell_type": "markdown",
   "id": "e1f5b435",
   "metadata": {},
   "source": [
    "Importing data from web and doing EDA for better understanding of Data"
   ]
  },
  {
   "cell_type": "code",
   "execution_count": 3,
   "id": "f378be6b",
   "metadata": {},
   "outputs": [
    {
     "name": "stdout",
     "output_type": "stream",
     "text": [
      "   Hours  Scores\n",
      "0    2.5      21\n",
      "1    5.1      47\n",
      "2    3.2      27\n",
      "3    8.5      75\n",
      "4    3.5      30\n"
     ]
    },
    {
     "data": {
      "image/png": "[encoded data removed]",
      "text/plain": [
       "<Figure size 432x288 with 1 Axes>"
      ]
     },
     "metadata": {
      "needs_background": "light"
     },
     "output_type": "display_data"
    }
   ],
   "source": [
    "data_url = 'http://bit.ly/w-data'           \n",
    "data = pd.read_csv(data_url)               #importing data from web\n",
    "print(data.head())                         #exploring content of data\n",
    "x = data.iloc[:, :-1].values  \n",
    "y = data.iloc[:, 1].values  \n",
    "plt.scatter(x=x, y=y)                      #plotting data for further analysis (helps in chosing model)\n",
    "plt.title('Study Data Set')\n",
    "plt.xlabel('Hours')\n",
    "plt.ylabel('Score')\n",
    "plt.show()"
   ]
  },
  {
   "cell_type": "markdown",
   "id": "56bdc1ba",
   "metadata": {},
   "source": [
    "Training the Dataset. Dataset is split into train and test sets to make sure that the algorithm is able to accurately predict on new unseen data."
   ]
  },
  {
   "cell_type": "code",
   "execution_count": 4,
   "id": "f638e360",
   "metadata": {},
   "outputs": [
    {
     "name": "stdout",
     "output_type": "stream",
     "text": [
      "Accuracy of Model = 0.9678055545167994\n"
     ]
    }
   ],
   "source": [
    "X_train, X_test, y_train, y_test = train_test_split(x, y, test_size=0.2, random_state=42) \n",
    "reg = LinearRegression()\n",
    "reg.fit(X_train, y_train)\n",
    "y_pred = reg.predict(X_test)\n",
    "print('Accuracy of Model = {}'.format(reg.score(X_test, y_test)))\n"
   ]
  },
  {
   "cell_type": "markdown",
   "id": "7dd16b7f",
   "metadata": {},
   "source": [
    "Predicting Our Required value"
   ]
  },
  {
   "cell_type": "code",
   "execution_count": 5,
   "id": "4a6bc9e9",
   "metadata": {},
   "outputs": [
    {
     "name": "stdout",
     "output_type": "stream",
     "text": [
      "No. of Hours = [[3]]\n",
      "Predicted Score = 31.87312681726683\n"
     ]
    }
   ],
   "source": [
    "pred_hrs = np.array([3],ndmin=2)    #2d array required therefore set ndmin = 2\n",
    "prediction = reg.predict(pred_hrs)\n",
    "print(\"No. of Hours = {}\".format(pred_hrs))\n",
    "print(\"Predicted Score = {}\".format(prediction[0]))"
   ]
  },
  {
   "cell_type": "code",
   "execution_count": 21,
   "id": "84c62504",
   "metadata": {},
   "outputs": [
    {
     "name": "stdout",
     "output_type": "stream",
     "text": [
      "Mean Absolute Error: 3.9207511902099244\n"
     ]
    }
   ],
   "source": [
    "print('Mean Absolute Error:', metrics.mean_absolute_error(y_test, y_pred))   #checking performance of algorithm"
   ]
  },
  {
   "cell_type": "code",
   "execution_count": null,
   "id": "79629bf8",
   "metadata": {},
   "outputs": [],
   "source": []
  }
 ],
 "metadata": {
  "kernelspec": {
   "display_name": "Python 3 (ipykernel)",
   "language": "python",
   "name": "python3"
  },
  "language_info": {
   "codemirror_mode": {
    "name": "ipython",
    "version": 3
   },
   "file_extension": ".py",
   "mimetype": "text/x-python",
   "name": "python",
   "nbconvert_exporter": "python",
   "pygments_lexer": "ipython3",
   "version": "3.8.12"
  }
 },
 "nbformat": 4,
 "nbformat_minor": 5
}
