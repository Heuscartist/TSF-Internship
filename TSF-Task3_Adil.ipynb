{
 "cells": [
  {
   "cell_type": "markdown",
   "id": "6a8b5755",
   "metadata": {},
   "source": [
    "# Task 2 - TSF GRIP"
   ]
  },
  {
   "cell_type": "markdown",
   "id": "12ba056d",
   "metadata": {},
   "source": [
    "In this task we are given a dataset of a sample super store and are required to perform exploratory data analysis to find out where more profits can be made in the superstore."
   ]
  },
  {
   "cell_type": "markdown",
   "id": "278d67cf",
   "metadata": {},
   "source": [
    "Importing neccesary libraries"
   ]
  },
  {
   "cell_type": "code",
   "execution_count": 2,
   "id": "ec440b4a",
   "metadata": {},
   "outputs": [],
   "source": [
    "import pandas as pd\n",
    "import numpy as np\n",
    "import matplotlib.pyplot as plt"
   ]
  },
  {
   "cell_type": "markdown",
   "id": "f73aaa10",
   "metadata": {},
   "source": [
    "To start off we will load the data from the .csv file and then we will proceed with the analysis of the data"
   ]
  },
  {
   "cell_type": "code",
   "execution_count": 31,
   "id": "ee9069d4",
   "metadata": {},
   "outputs": [
    {
     "name": "stdout",
     "output_type": "stream",
     "text": [
      "\n",
      "Printing the Head of the Data\n",
      "        Ship Mode    Segment        Country             City       State  \\\n",
      "0    Second Class   Consumer  United States        Henderson    Kentucky   \n",
      "1    Second Class   Consumer  United States        Henderson    Kentucky   \n",
      "2    Second Class  Corporate  United States      Los Angeles  California   \n",
      "3  Standard Class   Consumer  United States  Fort Lauderdale     Florida   \n",
      "4  Standard Class   Consumer  United States  Fort Lauderdale     Florida   \n",
      "5  Standard Class   Consumer  United States      Los Angeles  California   \n",
      "6  Standard Class   Consumer  United States      Los Angeles  California   \n",
      "7  Standard Class   Consumer  United States      Los Angeles  California   \n",
      "8  Standard Class   Consumer  United States      Los Angeles  California   \n",
      "9  Standard Class   Consumer  United States      Los Angeles  California   \n",
      "\n",
      "   Postal Code Region         Category Sub-Category     Sales  Quantity  \\\n",
      "0        42420  South        Furniture    Bookcases  261.9600         2   \n",
      "1        42420  South        Furniture       Chairs  731.9400         3   \n",
      "2        90036   West  Office Supplies       Labels   14.6200         2   \n",
      "3        33311  South        Furniture       Tables  957.5775         5   \n",
      "4        33311  South  Office Supplies      Storage   22.3680         2   \n",
      "5        90032   West        Furniture  Furnishings   48.8600         7   \n",
      "6        90032   West  Office Supplies          Art    7.2800         4   \n",
      "7        90032   West       Technology       Phones  907.1520         6   \n",
      "8        90032   West  Office Supplies      Binders   18.5040         3   \n",
      "9        90032   West  Office Supplies   Appliances  114.9000         5   \n",
      "\n",
      "   Discount    Profit  \n",
      "0      0.00   41.9136  \n",
      "1      0.00  219.5820  \n",
      "2      0.00    6.8714  \n",
      "3      0.45 -383.0310  \n",
      "4      0.20    2.5164  \n",
      "5      0.00   14.1694  \n",
      "6      0.00    1.9656  \n",
      "7      0.20   90.7152  \n",
      "8      0.20    5.7825  \n",
      "9      0.00   34.4700  \n"
     ]
    }
   ],
   "source": [
    "file_path = 'C:/01_Adil Mubashir/16_Internships/The Sparks Foundation/Data Analysis/Task_3/SampleSuperstore.csv'\n",
    "store_data = pd.read_csv(file_path)\n",
    "print(\"\\nPrinting the Head of the Data\")\n",
    "print(store_data.head(10))"
   ]
  },
  {
   "cell_type": "markdown",
   "id": "da0f5c6b",
   "metadata": {},
   "source": [
    "As we can see in the head of the data above, there are several columns that can be of interest. In this task we are supposed to figure out how to make more profits so the first thing we will do is to sort and find average profit per category. This will give us an initial understanding of which categories of products are giving more profit and which do not."
   ]
  },
  {
   "cell_type": "code",
   "execution_count": 70,
   "id": "a68c579c",
   "metadata": {},
   "outputs": [
    {
     "name": "stdout",
     "output_type": "stream",
     "text": [
      "          Category Sub-Category    Profit\n",
      "0        Furniture    Bookcases   41.9136\n",
      "1        Furniture       Chairs  219.5820\n",
      "2  Office Supplies       Labels    6.8714\n",
      "3        Furniture       Tables -383.0310\n",
      "4  Office Supplies      Storage    2.5164\n"
     ]
    }
   ],
   "source": [
    "store_data_category = store_data[[\"Category\", \"Sub-Category\", \"Profit\"]] #subsetting data according to required columns\n",
    "print(store_data_category.head()) "
   ]
  },
  {
   "cell_type": "markdown",
   "id": "8a55b2ba",
   "metadata": {},
   "source": [
    "Now that we have subsetted the data we can proceed with extracting the values from it. This will give a general indication of how each category and subcategory is impacting our profits."
   ]
  },
  {
   "cell_type": "code",
   "execution_count": 82,
   "id": "117daac7",
   "metadata": {},
   "outputs": [
    {
     "name": "stdout",
     "output_type": "stream",
     "text": [
      "                                    min        max        mean\n",
      "Category        Sub-Category                                  \n",
      "Furniture       Bookcases    -1665.0522  1013.1270  -15.230509\n",
      "                Chairs        -630.8820   770.3520   43.095894\n",
      "                Furnishings   -427.4500   387.5676   13.645918\n",
      "                Tables       -1862.3124   629.0100  -55.565771\n",
      "Office Supplies Appliances   -1181.2824   793.7160   38.922758\n",
      "                Art              0.1533   112.5740    8.200737\n",
      "                Binders      -3701.8928  4946.3700   19.843574\n",
      "                Envelopes        0.5508   204.0714   27.418019\n",
      "                Fasteners      -11.8256    21.8880    4.375660\n",
      "                Labels           0.6786   385.3752   15.236962\n",
      "                Paper            1.0700   352.2960   24.856620\n",
      "                Storage       -337.8060   792.2691   25.152277\n",
      "                Supplies     -1049.3406   327.5060   -6.258418\n",
      "Technology      Accessories    -75.5958   829.3754   54.111788\n",
      "                Copiers         59.9980  8399.9760  817.909190\n",
      "                Machines     -6599.9780  2799.9840   29.432669\n",
      "                Phones        -386.3916  1228.1787   50.073938\n"
     ]
    }
   ],
   "source": [
    "profit_data = store_data_category.groupby(['Category', 'Sub-Category'])['Profit'].agg([min, max, np.mean])\n",
    "print(profit_data)"
   ]
  },
  {
   "cell_type": "code",
   "execution_count": 147,
   "id": "7777a388",
   "metadata": {},
   "outputs": [
    {
     "data": {
      "image/png": "[encoded data removed]",
      "text/plain": [
       "<Figure size 432x288 with 1 Axes>"
      ]
     },
     "metadata": {
      "needs_background": "light"
     },
     "output_type": "display_data"
    },
    {
     "data": {
      "image/png": "[encoded data removed]",
      "text/plain": [
       "<Figure size 432x288 with 1 Axes>"
      ]
     },
     "metadata": {
      "needs_background": "light"
     },
     "output_type": "display_data"
    },
    {
     "data": {
      "image/png": "[encoded data removed]",
      "text/plain": [
       "<Figure size 432x288 with 1 Axes>"
      ]
     },
     "metadata": {
      "needs_background": "light"
     },
     "output_type": "display_data"
    }
   ],
   "source": [
    "furniture_mean = profit_data.iloc[0:4, 2]\n",
    "furniture_mean_values= []\n",
    "for i in range(0,4):\n",
    "    furniture_mean_values.append(furniture_mean[i])\n",
    "furniture = ['BookCases', 'Chairs', 'Furnishings', 'Tables']\n",
    "fig = plt.figure()\n",
    "ax = fig.add_axes([0,0,1,1])\n",
    "ax.bar(furniture,furniture_mean_values)\n",
    "plt.title(\"Furniture\")\n",
    "plt.ylabel('Avg. profit / $')\n",
    "plt.show()\n",
    "\n",
    "tech_mean = profit_data.iloc[13:17, 2]\n",
    "tech_mean_values= []\n",
    "for i in range(0,4):\n",
    "    tech_mean_values.append(tech_mean[i])\n",
    "tech = ['Accessories', 'Copiers', 'Machines', 'Phones']\n",
    "fig = plt.figure()\n",
    "ax = fig.add_axes([0,0,1,1])\n",
    "ax.bar(tech,tech_mean_values)\n",
    "plt.title(\"Technology\")\n",
    "plt.ylabel('Avg. profit / $')\n",
    "plt.show()\n",
    "\n",
    "office_mean = profit_data.iloc[4:13, 2]\n",
    "office_mean_values= []\n",
    "for i in range(0,9):\n",
    "    office_mean_values.append(office_mean[i])\n",
    "office = ['Appliances', 'Art', 'Binders', 'Envelopes', 'Fasteners', 'Labels', 'Paper', 'Storage', 'Supply']\n",
    "fig = plt.figure()\n",
    "ax = fig.add_axes([0,0,2,1])\n",
    "ax.bar(office,office_mean_values)\n",
    "plt.title(\"Office\")\n",
    "plt.ylabel('Avg. profit / $')\n",
    "plt.show()"
   ]
  },
  {
   "cell_type": "markdown",
   "id": "51dd2423",
   "metadata": {},
   "source": [
    "As we can see overall the furniture category is performing the least in the store. On top of that the tables sub category has resulted in an average loss for the store, therefore they must be re-evaluated. "
   ]
  },
  {
   "cell_type": "code",
   "execution_count": null,
   "id": "16b9ac6c",
   "metadata": {},
   "outputs": [],
   "source": []
  }
 ],
 "metadata": {
  "kernelspec": {
   "display_name": "Python 3 (ipykernel)",
   "language": "python",
   "name": "python3"
  },
  "language_info": {
   "codemirror_mode": {
    "name": "ipython",
    "version": 3
   },
   "file_extension": ".py",
   "mimetype": "text/x-python",
   "name": "python",
   "nbconvert_exporter": "python",
   "pygments_lexer": "ipython3",
   "version": "3.8.12"
  }
 },
 "nbformat": 4,
 "nbformat_minor": 5
}
